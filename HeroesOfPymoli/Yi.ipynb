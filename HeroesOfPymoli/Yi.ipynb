{
 "cells": [
  {
   "cell_type": "markdown",
   "metadata": {},
   "source": [
    "### Heroes Of Pymoli Data Analysis\n",
    "* Of the 1163 active players, the vast majority are male (84%). There also exists, a smaller, but notable proportion of female players (14%).\n",
    "\n",
    "* Our peak age demographic falls between 20-24 (44.8%) with secondary groups falling between 15-19 (18.60%) and 25-29 (13.4%).  \n",
    "-----"
   ]
  },
  {
   "cell_type": "markdown",
   "metadata": {},
   "source": [
    "### Note\n",
    "* Instructions have been included for each segment. You do not have to follow them exactly, but they are included to help you think through the steps."
   ]
  },
  {
   "cell_type": "code",
   "execution_count": 1,
   "metadata": {},
   "outputs": [
    {
     "ename": "PermissionError",
     "evalue": "[Errno 13] Permission denied: 'purchase.csv'",
     "output_type": "error",
     "traceback": [
      "\u001b[1;31m---------------------------------------------------------------------------\u001b[0m",
      "\u001b[1;31mPermissionError\u001b[0m                           Traceback (most recent call last)",
      "\u001b[1;32m<ipython-input-1-6659e4de4549>\u001b[0m in \u001b[0;36m<module>\u001b[1;34m\u001b[0m\n\u001b[0;32m     10\u001b[0m \u001b[0mpurchase_df\u001b[0m\u001b[1;33m.\u001b[0m\u001b[0mhead\u001b[0m\u001b[1;33m(\u001b[0m\u001b[1;33m)\u001b[0m\u001b[1;33m\u001b[0m\u001b[1;33m\u001b[0m\u001b[0m\n\u001b[0;32m     11\u001b[0m \u001b[1;33m\u001b[0m\u001b[0m\n\u001b[1;32m---> 12\u001b[1;33m \u001b[0mpurchase_df\u001b[0m\u001b[1;33m.\u001b[0m\u001b[0mto_csv\u001b[0m\u001b[1;33m(\u001b[0m\u001b[1;34m\"purchase.csv\"\u001b[0m\u001b[1;33m,\u001b[0m \u001b[0mindex\u001b[0m\u001b[1;33m=\u001b[0m\u001b[1;32mFalse\u001b[0m\u001b[1;33m,\u001b[0m \u001b[0mheader\u001b[0m\u001b[1;33m=\u001b[0m\u001b[1;32mTrue\u001b[0m\u001b[1;33m)\u001b[0m\u001b[1;33m\u001b[0m\u001b[1;33m\u001b[0m\u001b[0m\n\u001b[0m",
      "\u001b[1;32mC:\\ProgramData\\Anaconda3\\lib\\site-packages\\pandas\\core\\generic.py\u001b[0m in \u001b[0;36mto_csv\u001b[1;34m(self, path_or_buf, sep, na_rep, float_format, columns, header, index, index_label, mode, encoding, compression, quoting, quotechar, line_terminator, chunksize, tupleize_cols, date_format, doublequote, escapechar, decimal)\u001b[0m\n\u001b[0;32m   3018\u001b[0m                                  \u001b[0mdoublequote\u001b[0m\u001b[1;33m=\u001b[0m\u001b[0mdoublequote\u001b[0m\u001b[1;33m,\u001b[0m\u001b[1;33m\u001b[0m\u001b[1;33m\u001b[0m\u001b[0m\n\u001b[0;32m   3019\u001b[0m                                  escapechar=escapechar, decimal=decimal)\n\u001b[1;32m-> 3020\u001b[1;33m         \u001b[0mformatter\u001b[0m\u001b[1;33m.\u001b[0m\u001b[0msave\u001b[0m\u001b[1;33m(\u001b[0m\u001b[1;33m)\u001b[0m\u001b[1;33m\u001b[0m\u001b[1;33m\u001b[0m\u001b[0m\n\u001b[0m\u001b[0;32m   3021\u001b[0m \u001b[1;33m\u001b[0m\u001b[0m\n\u001b[0;32m   3022\u001b[0m         \u001b[1;32mif\u001b[0m \u001b[0mpath_or_buf\u001b[0m \u001b[1;32mis\u001b[0m \u001b[1;32mNone\u001b[0m\u001b[1;33m:\u001b[0m\u001b[1;33m\u001b[0m\u001b[1;33m\u001b[0m\u001b[0m\n",
      "\u001b[1;32mC:\\ProgramData\\Anaconda3\\lib\\site-packages\\pandas\\io\\formats\\csvs.py\u001b[0m in \u001b[0;36msave\u001b[1;34m(self)\u001b[0m\n\u001b[0;32m    155\u001b[0m             f, handles = _get_handle(self.path_or_buf, self.mode,\n\u001b[0;32m    156\u001b[0m                                      \u001b[0mencoding\u001b[0m\u001b[1;33m=\u001b[0m\u001b[0mself\u001b[0m\u001b[1;33m.\u001b[0m\u001b[0mencoding\u001b[0m\u001b[1;33m,\u001b[0m\u001b[1;33m\u001b[0m\u001b[1;33m\u001b[0m\u001b[0m\n\u001b[1;32m--> 157\u001b[1;33m                                      compression=self.compression)\n\u001b[0m\u001b[0;32m    158\u001b[0m             \u001b[0mclose\u001b[0m \u001b[1;33m=\u001b[0m \u001b[1;32mTrue\u001b[0m\u001b[1;33m\u001b[0m\u001b[1;33m\u001b[0m\u001b[0m\n\u001b[0;32m    159\u001b[0m \u001b[1;33m\u001b[0m\u001b[0m\n",
      "\u001b[1;32mC:\\ProgramData\\Anaconda3\\lib\\site-packages\\pandas\\io\\common.py\u001b[0m in \u001b[0;36m_get_handle\u001b[1;34m(path_or_buf, mode, encoding, compression, memory_map, is_text)\u001b[0m\n\u001b[0;32m    422\u001b[0m         \u001b[1;32melif\u001b[0m \u001b[0mencoding\u001b[0m\u001b[1;33m:\u001b[0m\u001b[1;33m\u001b[0m\u001b[1;33m\u001b[0m\u001b[0m\n\u001b[0;32m    423\u001b[0m             \u001b[1;31m# Python 3 and encoding\u001b[0m\u001b[1;33m\u001b[0m\u001b[1;33m\u001b[0m\u001b[1;33m\u001b[0m\u001b[0m\n\u001b[1;32m--> 424\u001b[1;33m             \u001b[0mf\u001b[0m \u001b[1;33m=\u001b[0m \u001b[0mopen\u001b[0m\u001b[1;33m(\u001b[0m\u001b[0mpath_or_buf\u001b[0m\u001b[1;33m,\u001b[0m \u001b[0mmode\u001b[0m\u001b[1;33m,\u001b[0m \u001b[0mencoding\u001b[0m\u001b[1;33m=\u001b[0m\u001b[0mencoding\u001b[0m\u001b[1;33m,\u001b[0m \u001b[0mnewline\u001b[0m\u001b[1;33m=\u001b[0m\u001b[1;34m\"\"\u001b[0m\u001b[1;33m)\u001b[0m\u001b[1;33m\u001b[0m\u001b[1;33m\u001b[0m\u001b[0m\n\u001b[0m\u001b[0;32m    425\u001b[0m         \u001b[1;32melif\u001b[0m \u001b[0mis_text\u001b[0m\u001b[1;33m:\u001b[0m\u001b[1;33m\u001b[0m\u001b[1;33m\u001b[0m\u001b[0m\n\u001b[0;32m    426\u001b[0m             \u001b[1;31m# Python 3 and no explicit encoding\u001b[0m\u001b[1;33m\u001b[0m\u001b[1;33m\u001b[0m\u001b[1;33m\u001b[0m\u001b[0m\n",
      "\u001b[1;31mPermissionError\u001b[0m: [Errno 13] Permission denied: 'purchase.csv'"
     ]
    }
   ],
   "source": [
    "# Dependencies and Setup\n",
    "import pandas as pd\n",
    "import numpy as np\n",
    "\n",
    "# File to Load (Remember to Change These)\n",
    "csv_path = \"Resources/purchase_data.csv\"\n",
    "\n",
    "# Read Purchasing File and store into Pandas data frame\n",
    "purchase_df = pd.DataFrame(pd.read_csv(csv_path))\n",
    "purchase_df.head()\n",
    "\n",
    "purchase_df.to_csv(\"purchase.csv\", index=False, header=True)"
   ]
  },
  {
   "cell_type": "markdown",
   "metadata": {},
   "source": [
    "## Player Count"
   ]
  },
  {
   "cell_type": "markdown",
   "metadata": {},
   "source": [
    "* Display the total number of players\n"
   ]
  },
  {
   "cell_type": "code",
   "execution_count": null,
   "metadata": {},
   "outputs": [],
   "source": [
    "totalplayers=len(purchase_df[\"SN\"].unique())\n",
    "\n",
    "player_table = pd.DataFrame({\"Total Players\":[totalplayers]})\n",
    "player_table"
   ]
  },
  {
   "cell_type": "markdown",
   "metadata": {},
   "source": [
    "## Purchasing Analysis (Total)"
   ]
  },
  {
   "cell_type": "markdown",
   "metadata": {},
   "source": [
    "* Run basic calculations to obtain number of unique items, average price, etc.\n",
    "\n",
    "\n",
    "* Create a summary data frame to hold the results\n",
    "\n",
    "\n",
    "* Optional: give the displayed data cleaner formatting\n",
    "\n",
    "\n",
    "* Display the summary data frame\n"
   ]
  },
  {
   "cell_type": "code",
   "execution_count": null,
   "metadata": {
    "scrolled": true
   },
   "outputs": [],
   "source": [
    "itemnum = len(purchase_df[\"Item Name\"].unique())\n",
    "totalrev = purchase_df[\"Price\"].sum()\n",
    "purchasenum = purchase_df[\"Price\"].count()\n",
    "aveprice = float(totalrev/purchasenum)\n",
    "\n",
    "summary_table1 = pd.DataFrame({\"Number of Unique Items\":[itemnum],\n",
    "                               \"Average Price\":[aveprice],\n",
    "                               \"Number of Purchases\":[purchasenum],\n",
    "                               \"Total Revenue\":[totalrev]})\n",
    "\n",
    "summary_table1[\"Average Price\"] = summary_table1[\"Average Price\"].map(\"${:.2f}\".format)\n",
    "summary_table1[\"Total Revenue\"] = summary_table1[\"Total Revenue\"].map(\"${:,}\".format)\n",
    "summary_table1"
   ]
  },
  {
   "cell_type": "markdown",
   "metadata": {},
   "source": [
    "## Gender Demographics"
   ]
  },
  {
   "cell_type": "markdown",
   "metadata": {},
   "source": [
    "* Percentage and Count of Male Players\n",
    "\n",
    "\n",
    "* Percentage and Count of Female Players\n",
    "\n",
    "\n",
    "* Percentage and Count of Other / Non-Disclosed\n",
    "\n",
    "\n"
   ]
  },
  {
   "cell_type": "code",
   "execution_count": null,
   "metadata": {},
   "outputs": [],
   "source": [
    "data = pd.read_csv(\"purchase.csv\")\n",
    "data.sort_values(\"SN\", inplace = True)\n",
    "purchase_df.sort_values(\"SN\", inplace = True) \n",
    "data.to_csv(\"purchase1.csv\", index=False, header=True)  \n",
    "# dropping ALL duplicte values \n",
    "data.drop_duplicates(subset =\"SN\",keep = 'first', inplace = True) \n",
    "data.to_csv(\"purchase2.csv\", index=False, header=True)  \n",
    "\n",
    "df=pd.DataFrame(data[\"Gender\"].value_counts())\n",
    "df\n",
    "total_c=df[\"Gender\"]\n",
    "summary_table2 = pd.DataFrame({\"Total Count\": total_c})\n",
    "\n",
    "summary_table2['Percentage of Players']=summary_table2['Total Count']/len(data[\"SN\"].unique())*100\n",
    "summary_table2['Percentage of Players']=summary_table2['Percentage of Players'].map(\"{:.2f}\".format)\n",
    "summary_table2"
   ]
  },
  {
   "cell_type": "markdown",
   "metadata": {},
   "source": [
    "\n",
    "## Purchasing Analysis (Gender)"
   ]
  },
  {
   "cell_type": "markdown",
   "metadata": {},
   "source": [
    "* Run basic calculations to obtain purchase count, avg. purchase price, avg. purchase total per person etc. by gender\n",
    "\n",
    "\n",
    "\n",
    "\n",
    "* Create a summary data frame to hold the results\n",
    "\n",
    "\n",
    "* Optional: give the displayed data cleaner formatting\n",
    "\n",
    "\n",
    "* Display the summary data frame"
   ]
  },
  {
   "cell_type": "code",
   "execution_count": null,
   "metadata": {},
   "outputs": [],
   "source": [
    "data = pd.read_csv(\"purchase.csv\")\n",
    "grouped_df = data.groupby(['Gender'])\n",
    "df=grouped_df.count().head()\n",
    "total_p=grouped_df[\"Price\"].sum()\n",
    "purchase_c=grouped_df[\"Price\"].count()\n",
    "\n",
    "summary_table3 = pd.DataFrame({\"Purchase Count\": purchase_c,\n",
    "                                    \"Total Purchase Value\": total_p})\n",
    "summary_table3['Average Purchase Price']=summary_table3['Total Purchase Value']/summary_table3['Purchase Count']\n",
    "summary_table3['Avg Total Purchase per Person']=summary_table3['Total Purchase Value']/summary_table2['Total Count']\n",
    "summary_table3[\"Total Purchase Value\"] = summary_table3[\"Total Purchase Value\"].map(\"${:.2f}\".format)\n",
    "summary_table3[\"Average Purchase Price\"] = summary_table3[\"Average Purchase Price\"].map(\"${:.2f}\".format)\n",
    "summary_table3[\"Avg Total Purchase per Person\"] = summary_table3[\"Avg Total Purchase per Person\"].map(\"${:.2f}\".format)\n",
    "summary_table3\n",
    "#grouped_df[\"Gender\"].value_counts()\n",
    "#summary_table\n",
    "#values = data['Gender'].value_counts().keys().tolist()\n",
    "#counts = data['Gender'].value_counts().tolist()"
   ]
  },
  {
   "cell_type": "markdown",
   "metadata": {},
   "source": [
    "## Age Demographics"
   ]
  },
  {
   "cell_type": "markdown",
   "metadata": {},
   "source": [
    "* Establish bins for ages\n",
    "\n",
    "\n",
    "* Categorize the existing players using the age bins. Hint: use pd.cut()\n",
    "\n",
    "\n",
    "* Calculate the numbers and percentages by age group\n",
    "\n",
    "\n",
    "* Create a summary data frame to hold the results\n",
    "\n",
    "\n",
    "* Optional: round the percentage column to two decimal points\n",
    "\n",
    "\n",
    "* Display Age Demographics Table\n"
   ]
  },
  {
   "cell_type": "code",
   "execution_count": null,
   "metadata": {},
   "outputs": [],
   "source": [
    "data = pd.read_csv(\"purchase.csv\")\n",
    "data.sort_values(\"SN\", inplace = True)\n",
    "purchase_df.sort_values(\"SN\", inplace = True) \n",
    "#data.to_csv(\"purchase1.csv\", index=False, header=True)  \n",
    "# dropping ALL duplicte values \n",
    "data.drop_duplicates(subset =\"SN\",keep = 'first', inplace = True) \n",
    "bins = [0, 9, 14, 19, 24, 29, 34, 39, 100]\n",
    "group_names = [\"<10\", \"10-14\", \"15-19\", \"20-24\", \"25-29\", \"30-34\", \"35-39\", \"40+\"]\n",
    "df=pd.DataFrame(data)\n",
    "df[\" \"] = pd.cut(df[\"Age\"], bins, labels=group_names)\n",
    "\n",
    "grouped1_df = df.groupby([' '])\n",
    "grouped1_df.count()\n",
    "age_c=grouped1_df[\"Age\"].count()\n",
    "\n",
    "summary_table4 = pd.DataFrame({\"Total Count\": age_c})\n",
    "summary_table4['Percentage of Players']=summary_table4['Total Count']/totalplayers*100\n",
    "summary_table4['Percentage of Players']=summary_table4['Percentage of Players'].map(\"{:.2f}\".format)\n",
    "summary_table4"
   ]
  },
  {
   "cell_type": "markdown",
   "metadata": {},
   "source": [
    "## Purchasing Analysis (Age)"
   ]
  },
  {
   "cell_type": "markdown",
   "metadata": {},
   "source": [
    "* Bin the purchase_data data frame by age\n",
    "\n",
    "\n",
    "* Run basic calculations to obtain purchase count, avg. purchase price, avg. purchase total per person etc. in the table below\n",
    "\n",
    "\n",
    "* Create a summary data frame to hold the results\n",
    "\n",
    "\n",
    "* Optional: give the displayed data cleaner formatting\n",
    "\n",
    "\n",
    "* Display the summary data frame"
   ]
  },
  {
   "cell_type": "code",
   "execution_count": null,
   "metadata": {},
   "outputs": [],
   "source": [
    "data = pd.read_csv(\"purchase.csv\")\n",
    "bins = [0, 9, 14, 19, 24, 29, 34, 39, 100]\n",
    "group_names = [\"<10\", \"10-14\", \"15-19\", \"20-24\", \"25-29\", \"30-34\", \"35-39\", \"40+\"]\n",
    "df=pd.DataFrame(data)\n",
    "df[\"Ages\"] = pd.cut(df[\"Age\"], bins, labels=group_names)\n",
    "\n",
    "#df.to_csv(\"purchase3.csv\", index=False, header=True)\n",
    "grouped2_df = data.groupby(['Ages'])\n",
    "df=grouped2_df.count().head(10)\n",
    "total1_p=grouped2_df[\"Price\"].sum()\n",
    "purchase1_c=grouped2_df[\"Price\"].count()\n",
    "\n",
    "summary_table5 = pd.DataFrame({\"Purchase Count\": purchase1_c,\n",
    "                                    \"Total Purchase Value\": total1_p})\n",
    "summary_table5['Average Purchase Price']=summary_table5['Total Purchase Value']/summary_table5['Purchase Count']\n",
    "summary_table5['Avg Total Purchase per Person']=summary_table5['Total Purchase Value']/summary_table4['Total Count']\n",
    "summary_table5[\"Total Purchase Value\"] = summary_table5[\"Total Purchase Value\"].map(\"${:.2f}\".format)\n",
    "summary_table5[\"Average Purchase Price\"] = summary_table5[\"Average Purchase Price\"].map(\"${:.2f}\".format)\n",
    "summary_table5[\"Avg Total Purchase per Person\"] = summary_table5[\"Avg Total Purchase per Person\"].map(\"${:.2f}\".format)\n",
    "summary_table5"
   ]
  },
  {
   "cell_type": "markdown",
   "metadata": {},
   "source": [
    "## Top Spenders"
   ]
  },
  {
   "cell_type": "markdown",
   "metadata": {},
   "source": [
    "* Run basic calculations to obtain the results in the table below\n",
    "\n",
    "\n",
    "* Create a summary data frame to hold the results\n",
    "\n",
    "\n",
    "* Sort the total purchase value column in descending order\n",
    "\n",
    "\n",
    "* Optional: give the displayed data cleaner formatting\n",
    "\n",
    "\n",
    "* Display a preview of the summary data frame\n",
    "\n"
   ]
  },
  {
   "cell_type": "code",
   "execution_count": null,
   "metadata": {},
   "outputs": [],
   "source": [
    "data = pd.read_csv(\"purchase.csv\")\n",
    "grouped3_df = data.groupby(['SN'])\n",
    "df=grouped3_df.count().head()\n",
    "\n",
    "total2_p=grouped3_df[\"Price\"].sum()\n",
    "purchase2_c=grouped3_df[\"Price\"].count()\n",
    "\n",
    "summary_table6 = pd.DataFrame({\"Purchase Count\": purchase2_c,\n",
    "                                    \"Total Purchase Value\": total2_p})\n",
    "summary_table6.sort_values('Total Purchase Value', inplace = True,ascending=False)\n",
    "summary_table6['Average Purchase Price']=summary_table6['Total Purchase Value']/summary_table6['Purchase Count']\n",
    "summary_table6[\"Average Purchase Price\"] = summary_table6[\"Average Purchase Price\"].map(\"${:.2f}\".format)\n",
    "summary_table6[\"Total Purchase Value\"] = summary_table6[\"Total Purchase Value\"].map(\"${:.2f}\".format)\n",
    "summary_table6.head()"
   ]
  },
  {
   "cell_type": "markdown",
   "metadata": {},
   "source": [
    "## Most Popular Items"
   ]
  },
  {
   "cell_type": "markdown",
   "metadata": {},
   "source": [
    "* Retrieve the Item ID, Item Name, and Item Price columns\n",
    "\n",
    "\n",
    "* Group by Item ID and Item Name. Perform calculations to obtain purchase count, item price, and total purchase value\n",
    "\n",
    "\n",
    "* Create a summary data frame to hold the results\n",
    "\n",
    "\n",
    "* Sort the purchase count column in descending order\n",
    "\n",
    "\n",
    "* Optional: give the displayed data cleaner formatting\n",
    "\n",
    "\n",
    "* Display a preview of the summary data frame\n",
    "\n"
   ]
  },
  {
   "cell_type": "code",
   "execution_count": 3,
   "metadata": {},
   "outputs": [
    {
     "data": {
      "text/html": [
       "<div>\n",
       "<style scoped>\n",
       "    .dataframe tbody tr th:only-of-type {\n",
       "        vertical-align: middle;\n",
       "    }\n",
       "\n",
       "    .dataframe tbody tr th {\n",
       "        vertical-align: top;\n",
       "    }\n",
       "\n",
       "    .dataframe thead th {\n",
       "        text-align: right;\n",
       "    }\n",
       "</style>\n",
       "<table border=\"1\" class=\"dataframe\">\n",
       "  <thead>\n",
       "    <tr style=\"text-align: right;\">\n",
       "      <th></th>\n",
       "      <th>Item Name</th>\n",
       "      <th>Purchase Count</th>\n",
       "      <th>Total Purchase Value</th>\n",
       "      <th>Item Price</th>\n",
       "    </tr>\n",
       "    <tr>\n",
       "      <th>Item ID</th>\n",
       "      <th></th>\n",
       "      <th></th>\n",
       "      <th></th>\n",
       "      <th></th>\n",
       "    </tr>\n",
       "  </thead>\n",
       "  <tbody>\n",
       "    <tr>\n",
       "      <th>178</th>\n",
       "      <td>(178, [Oathbreaker, Last Hope of the Breaking ...</td>\n",
       "      <td>12</td>\n",
       "      <td>$50.76</td>\n",
       "      <td>$4.23</td>\n",
       "    </tr>\n",
       "    <tr>\n",
       "      <th>82</th>\n",
       "      <td>(82, [Nirvana, Nirvana, Nirvana, Nirvana, Nirv...</td>\n",
       "      <td>9</td>\n",
       "      <td>$44.10</td>\n",
       "      <td>$4.90</td>\n",
       "    </tr>\n",
       "    <tr>\n",
       "      <th>145</th>\n",
       "      <td>(145, [Fiery Glass Crusader, Fiery Glass Crusa...</td>\n",
       "      <td>9</td>\n",
       "      <td>$41.22</td>\n",
       "      <td>$4.58</td>\n",
       "    </tr>\n",
       "    <tr>\n",
       "      <th>92</th>\n",
       "      <td>(92, [Final Critic, Final Critic, Final Critic...</td>\n",
       "      <td>8</td>\n",
       "      <td>$39.04</td>\n",
       "      <td>$4.88</td>\n",
       "    </tr>\n",
       "    <tr>\n",
       "      <th>103</th>\n",
       "      <td>(103, [Singed Scalpel, Singed Scalpel, Singed ...</td>\n",
       "      <td>8</td>\n",
       "      <td>$34.80</td>\n",
       "      <td>$4.35</td>\n",
       "    </tr>\n",
       "  </tbody>\n",
       "</table>\n",
       "</div>"
      ],
      "text/plain": [
       "                                                 Item Name  Purchase Count  \\\n",
       "Item ID                                                                      \n",
       "178      (178, [Oathbreaker, Last Hope of the Breaking ...              12   \n",
       "82       (82, [Nirvana, Nirvana, Nirvana, Nirvana, Nirv...               9   \n",
       "145      (145, [Fiery Glass Crusader, Fiery Glass Crusa...               9   \n",
       "92       (92, [Final Critic, Final Critic, Final Critic...               8   \n",
       "103      (103, [Singed Scalpel, Singed Scalpel, Singed ...               8   \n",
       "\n",
       "        Total Purchase Value Item Price  \n",
       "Item ID                                  \n",
       "178                   $50.76      $4.23  \n",
       "82                    $44.10      $4.90  \n",
       "145                   $41.22      $4.58  \n",
       "92                    $39.04      $4.88  \n",
       "103                   $34.80      $4.35  "
      ]
     },
     "execution_count": 3,
     "metadata": {},
     "output_type": "execute_result"
    }
   ],
   "source": [
    "data = pd.read_csv(\"purchase.csv\")\n",
    "grouped4_df = data.groupby(['Item ID'])\n",
    "df=grouped4_df.count().head()\n",
    "\n",
    "total3_p=grouped4_df[\"Price\"].sum()\n",
    "purchase3_c=grouped4_df[\"Price\"].count()\n",
    "purchase3_c1=grouped4_df[\"Item Name\"]\n",
    "\n",
    "summary_table7 = pd.DataFrame({\"Item Name\": purchase3_c1, \"Purchase Count\": purchase3_c,\n",
    "                                    \"Total Purchase Value\": total3_p})\n",
    "summary_table7.sort_values('Total Purchase Value', inplace = True,ascending=False)\n",
    "summary_table7['Item Price']=summary_table7['Total Purchase Value']/summary_table7['Purchase Count']\n",
    "summary_table7[\"Total Purchase Value\"] = summary_table7[\"Total Purchase Value\"].map(\"${:.2f}\".format)\n",
    "summary_table7[\"Item Price\"] = summary_table7[\"Item Price\"].map(\"${:.2f}\".format)\n",
    "summary_table7.head()\n"
   ]
  },
  {
   "cell_type": "markdown",
   "metadata": {},
   "source": [
    "## Most Profitable Items"
   ]
  },
  {
   "cell_type": "markdown",
   "metadata": {},
   "source": [
    "* Sort the above table by total purchase value in descending order\n",
    "\n",
    "\n",
    "* Optional: give the displayed data cleaner formatting\n",
    "\n",
    "\n",
    "* Display a preview of the data frame\n",
    "\n"
   ]
  },
  {
   "cell_type": "code",
   "execution_count": 4,
   "metadata": {
    "scrolled": true
   },
   "outputs": [
    {
     "data": {
      "text/html": [
       "<div>\n",
       "<style scoped>\n",
       "    .dataframe tbody tr th:only-of-type {\n",
       "        vertical-align: middle;\n",
       "    }\n",
       "\n",
       "    .dataframe tbody tr th {\n",
       "        vertical-align: top;\n",
       "    }\n",
       "\n",
       "    .dataframe thead th {\n",
       "        text-align: right;\n",
       "    }\n",
       "</style>\n",
       "<table border=\"1\" class=\"dataframe\">\n",
       "  <thead>\n",
       "    <tr style=\"text-align: right;\">\n",
       "      <th></th>\n",
       "      <th>Item Name</th>\n",
       "      <th>Purchase Count</th>\n",
       "      <th>Total Purchase Value</th>\n",
       "      <th>Item Price</th>\n",
       "    </tr>\n",
       "  </thead>\n",
       "  <tbody>\n",
       "    <tr>\n",
       "      <th>0</th>\n",
       "      <td>(178, [Oathbreaker, Last Hope of the Breaking ...</td>\n",
       "      <td>12</td>\n",
       "      <td>$50.76</td>\n",
       "      <td>$4.23</td>\n",
       "    </tr>\n",
       "    <tr>\n",
       "      <th>1</th>\n",
       "      <td>(82, [Nirvana, Nirvana, Nirvana, Nirvana, Nirv...</td>\n",
       "      <td>9</td>\n",
       "      <td>$44.10</td>\n",
       "      <td>$4.90</td>\n",
       "    </tr>\n",
       "    <tr>\n",
       "      <th>2</th>\n",
       "      <td>(145, [Fiery Glass Crusader, Fiery Glass Crusa...</td>\n",
       "      <td>9</td>\n",
       "      <td>$41.22</td>\n",
       "      <td>$4.58</td>\n",
       "    </tr>\n",
       "    <tr>\n",
       "      <th>3</th>\n",
       "      <td>(92, [Final Critic, Final Critic, Final Critic...</td>\n",
       "      <td>8</td>\n",
       "      <td>$39.04</td>\n",
       "      <td>$4.88</td>\n",
       "    </tr>\n",
       "    <tr>\n",
       "      <th>4</th>\n",
       "      <td>(103, [Singed Scalpel, Singed Scalpel, Singed ...</td>\n",
       "      <td>8</td>\n",
       "      <td>$34.80</td>\n",
       "      <td>$4.35</td>\n",
       "    </tr>\n",
       "  </tbody>\n",
       "</table>\n",
       "</div>"
      ],
      "text/plain": [
       "                                           Item Name  Purchase Count  \\\n",
       "0  (178, [Oathbreaker, Last Hope of the Breaking ...              12   \n",
       "1  (82, [Nirvana, Nirvana, Nirvana, Nirvana, Nirv...               9   \n",
       "2  (145, [Fiery Glass Crusader, Fiery Glass Crusa...               9   \n",
       "3  (92, [Final Critic, Final Critic, Final Critic...               8   \n",
       "4  (103, [Singed Scalpel, Singed Scalpel, Singed ...               8   \n",
       "\n",
       "  Total Purchase Value Item Price  \n",
       "0               $50.76      $4.23  \n",
       "1               $44.10      $4.90  \n",
       "2               $41.22      $4.58  \n",
       "3               $39.04      $4.88  \n",
       "4               $34.80      $4.35  "
      ]
     },
     "execution_count": 4,
     "metadata": {},
     "output_type": "execute_result"
    }
   ],
   "source": [
    "new_index = summary_table7.reset_index(drop=True)\n",
    "new_index.head()"
   ]
  },
  {
   "cell_type": "code",
   "execution_count": null,
   "metadata": {},
   "outputs": [],
   "source": []
  }
 ],
 "metadata": {
  "anaconda-cloud": {},
  "kernel_info": {
   "name": "python3"
  },
  "kernelspec": {
   "display_name": "Python 3",
   "language": "python",
   "name": "python3"
  },
  "language_info": {
   "codemirror_mode": {
    "name": "ipython",
    "version": 3
   },
   "file_extension": ".py",
   "mimetype": "text/x-python",
   "name": "python",
   "nbconvert_exporter": "python",
   "pygments_lexer": "ipython3",
   "version": "3.7.3"
  },
  "nteract": {
   "version": "0.2.0"
  }
 },
 "nbformat": 4,
 "nbformat_minor": 2
}
